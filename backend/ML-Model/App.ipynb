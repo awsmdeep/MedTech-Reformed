{
 "cells": [
  {
   "cell_type": "code",
   "execution_count": 16,
   "id": "efec771e",
   "metadata": {},
   "outputs": [],
   "source": [
    "import pandas as pd\n",
    "import numpy as np"
   ]
  },
  {
   "cell_type": "code",
   "execution_count": null,
   "id": "172df526",
   "metadata": {},
   "outputs": [
    {
     "name": "stdout",
     "output_type": "stream",
     "text": [
      " * Serving Flask app \"__main__\" (lazy loading)\n",
      " * Environment: production\n",
      "\u001b[31m   WARNING: This is a development server. Do not use it in a production deployment.\u001b[0m\n",
      "\u001b[2m   Use a production WSGI server instead.\u001b[0m\n",
      " * Debug mode: off\n"
     ]
    },
    {
     "name": "stderr",
     "output_type": "stream",
     "text": [
      " * Running on http://127.0.0.1:8000/ (Press CTRL+C to quit)\n",
      "127.0.0.1 - - [08/Apr/2024 21:45:54] \"POST /process HTTP/1.1\" 200 -\n",
      "127.0.0.1 - - [08/Apr/2024 21:47:46] \"POST /process HTTP/1.1\" 200 -\n"
     ]
    },
    {
     "name": "stdout",
     "output_type": "stream",
     "text": [
      "same as acute lymphoblastic leukaemia\n",
      "[[0. 0. 0. 0. 0. 0. 0. 0. 0. 0. 0. 0. 0. 0. 0. 0. 0. 0. 0. 0. 0. 0. 0. 0.\n",
      "  0. 0. 0. 0. 0. 0. 0. 0. 0. 0. 0. 0. 0. 0. 0. 0. 0. 0. 0. 0. 0. 0. 0. 0.\n",
      "  0. 0. 0. 0. 0. 0. 0. 0. 0. 0. 0. 0. 0. 0. 0. 0. 0. 0. 0. 0. 0. 0. 0. 0.\n",
      "  0. 0. 0. 0. 0. 0. 0. 0. 0. 0. 0. 0. 0. 0. 0. 0. 0. 0. 0. 0. 0. 0. 0. 0.\n",
      "  0. 0. 0. 0. 0. 0. 0. 0. 0. 0. 0. 0. 0. 0. 0. 0. 0. 0. 0. 0. 0. 0. 0. 0.\n",
      "  0. 0. 0. 0. 0. 0. 0. 0. 0. 0. 0. 0. 0. 0. 0. 0. 0. 0. 0. 0. 0. 0. 0. 0.\n",
      "  0. 0. 0. 0. 0. 0. 0. 0. 0. 0. 0. 0. 0. 0. 0. 0. 0. 0. 0. 0. 0. 0. 0. 0.\n",
      "  0. 0. 0. 0. 0. 0. 0. 0. 0. 0. 0. 0. 0. 0. 0. 0. 0. 0. 0. 0. 0. 0. 0. 0.\n",
      "  0. 0. 0. 0. 0. 0. 0. 0. 0. 0. 0. 0. 0. 0. 0. 0. 0. 0. 0. 0. 0. 0. 0. 0.\n",
      "  0. 0. 0. 0. 0. 0. 0. 0. 0. 0. 0. 0. 0. 0. 0. 0. 0. 0. 0. 0. 0. 0. 0. 0.\n",
      "  0. 0. 0. 0. 0. 0. 0. 0. 0. 0. 0. 0. 0. 0. 0. 0. 0. 0. 0. 0. 0. 0. 0. 0.\n",
      "  0. 0. 0. 0. 0. 0. 0. 0. 0. 0. 0. 0. 0. 0. 0. 0. 0. 0. 0. 0. 0. 0. 0. 0.\n",
      "  0. 0. 0. 0. 0. 0. 0. 0. 0. 0. 0. 0. 0. 0. 0. 0. 0. 0. 0. 0. 0. 0. 0. 0.\n",
      "  0. 0. 0. 0. 0. 0. 0. 0. 0. 0. 0. 0. 0. 0. 0. 0. 0. 0. 0. 0. 0. 0. 0. 0.\n",
      "  0. 0. 0. 0. 0. 0. 0. 0. 0. 0. 0. 0. 0. 0. 0. 0. 0. 0. 0. 0. 0. 0. 0. 0.\n",
      "  0. 0. 0. 0. 0. 0. 0. 0. 0. 0. 0. 0. 0. 0. 0. 0. 0. 0. 0. 0. 0. 0. 0. 0.\n",
      "  0. 0. 0. 0. 0. 0. 0. 0. 0. 0. 0. 0. 0. 0. 0. 0. 0. 0. 0. 0. 0. 0. 0. 0.\n",
      "  0. 0. 0. 0. 0. 0. 0. 0. 0. 0. 0. 0. 0. 0. 0. 0. 0. 0. 0. 0. 0. 0. 0. 0.\n",
      "  0. 0. 0. 0. 0. 0. 0. 0. 0. 0. 0. 0. 0. 0. 0. 0. 0. 0. 0. 0. 0. 0. 0. 0.\n",
      "  0. 0. 0. 0. 0. 0. 0. 0. 0. 0. 0. 0. 0. 0. 0. 0. 0. 0. 0. 0. 0. 0. 0. 0.\n",
      "  0. 0. 0. 0. 0. 0. 0. 0. 0. 0. 0. 0. 0. 0. 0. 0. 0. 0. 0. 0. 0. 0. 0. 0.\n",
      "  0. 0. 0. 0. 0. 0. 0. 0. 0. 0. 0. 0. 0. 0. 0. 0. 0. 0. 0. 0. 0. 0. 0. 0.\n",
      "  0. 0. 0. 0. 0. 0. 0. 0. 0. 0. 0. 0. 0. 0. 0. 0. 0. 0. 0. 0. 0. 0. 0. 0.\n",
      "  0. 0. 0. 0. 0. 0. 0. 0. 0. 0. 0. 0. 0. 0. 0. 0. 0. 0. 0. 0. 0. 0. 0. 0.\n",
      "  0. 0. 0. 0. 0. 0. 0. 0. 0. 0. 0. 0. 0. 0. 0. 0. 0. 0. 0. 0. 0. 0. 0. 0.\n",
      "  0. 0. 0. 0. 0. 0. 0. 0. 0. 0. 0. 0. 0. 0. 0. 0. 0. 0. 0. 0. 0. 0. 0. 0.\n",
      "  0. 0. 0. 0. 0. 0. 0. 0. 0. 0. 0. 0. 0. 0. 0. 0. 0. 0. 0. 0. 0. 0. 0. 0.\n",
      "  0. 0. 0. 0. 0. 0. 0. 0. 0.]]\n"
     ]
    },
    {
     "name": "stderr",
     "output_type": "stream",
     "text": [
      "/Users/sidharthkumar/opt/anaconda3/lib/python3.9/site-packages/sklearn/base.py:450: UserWarning: X does not have valid feature names, but DecisionTreeClassifier was fitted with feature names\n",
      "  warnings.warn(\n",
      "127.0.0.1 - - [08/Apr/2024 21:48:26] \"POST /getPrediction HTTP/1.1\" 200 -\n"
     ]
    },
    {
     "name": "stdout",
     "output_type": "stream",
     "text": [
      "Vomiting in adults\n"
     ]
    },
    {
     "name": "stderr",
     "output_type": "stream",
     "text": [
      "127.0.0.1 - - [08/Apr/2024 21:49:05] \"POST /process HTTP/1.1\" 200 -\n",
      "/Users/sidharthkumar/opt/anaconda3/lib/python3.9/site-packages/sklearn/base.py:450: UserWarning: X does not have valid feature names, but DecisionTreeClassifier was fitted with feature names\n",
      "  warnings.warn(\n",
      "127.0.0.1 - - [08/Apr/2024 21:50:30] \"POST /getPrediction HTTP/1.1\" 200 -\n"
     ]
    },
    {
     "name": "stdout",
     "output_type": "stream",
     "text": [
      "weakness,jaw\n",
      "15\n",
      "69\n",
      "[[0. 0. 0. 0. 0. 0. 0. 0. 0. 0. 0. 0. 0. 0. 1. 0. 0. 0. 0. 0. 0. 0. 0. 0.\n",
      "  0. 0. 0. 0. 0. 0. 0. 0. 0. 0. 0. 0. 0. 0. 0. 0. 0. 0. 0. 0. 0. 0. 0. 0.\n",
      "  0. 0. 0. 0. 0. 0. 0. 0. 0. 0. 0. 0. 0. 0. 0. 0. 0. 0. 0. 0. 1. 0. 0. 0.\n",
      "  0. 0. 0. 0. 0. 0. 0. 0. 0. 0. 0. 0. 0. 0. 0. 0. 0. 0. 0. 0. 0. 0. 0. 0.\n",
      "  0. 0. 0. 0. 0. 0. 0. 0. 0. 0. 0. 0. 0. 0. 0. 0. 0. 0. 0. 0. 0. 0. 0. 0.\n",
      "  0. 0. 0. 0. 0. 0. 0. 0. 0. 0. 0. 0. 0. 0. 0. 0. 0. 0. 0. 0. 0. 0. 0. 0.\n",
      "  0. 0. 0. 0. 0. 0. 0. 0. 0. 0. 0. 0. 0. 0. 0. 0. 0. 0. 0. 0. 0. 0. 0. 0.\n",
      "  0. 0. 0. 0. 0. 0. 0. 0. 0. 0. 0. 0. 0. 0. 0. 0. 0. 0. 0. 0. 0. 0. 0. 0.\n",
      "  0. 0. 0. 0. 0. 0. 0. 0. 0. 0. 0. 0. 0. 0. 0. 0. 0. 0. 0. 0. 0. 0. 0. 0.\n",
      "  0. 0. 0. 0. 0. 0. 0. 0. 0. 0. 0. 0. 0. 0. 0. 0. 0. 0. 0. 0. 0. 0. 0. 0.\n",
      "  0. 0. 0. 0. 0. 0. 0. 0. 0. 0. 0. 0. 0. 0. 0. 0. 0. 0. 0. 0. 0. 0. 0. 0.\n",
      "  0. 0. 0. 0. 0. 0. 0. 0. 0. 0. 0. 0. 0. 0. 0. 0. 0. 0. 0. 0. 0. 0. 0. 0.\n",
      "  0. 0. 0. 0. 0. 0. 0. 0. 0. 0. 0. 0. 0. 0. 0. 0. 0. 0. 0. 0. 0. 0. 0. 0.\n",
      "  0. 0. 0. 0. 0. 0. 0. 0. 0. 0. 0. 0. 0. 0. 0. 0. 0. 0. 0. 0. 0. 0. 0. 0.\n",
      "  0. 0. 0. 0. 0. 0. 0. 0. 0. 0. 0. 0. 0. 0. 0. 0. 0. 0. 0. 0. 0. 0. 0. 0.\n",
      "  0. 0. 0. 0. 0. 0. 0. 0. 0. 0. 0. 0. 0. 0. 0. 0. 0. 0. 0. 0. 0. 0. 0. 0.\n",
      "  0. 0. 0. 0. 0. 0. 0. 0. 0. 0. 0. 0. 0. 0. 0. 0. 0. 0. 0. 0. 0. 0. 0. 0.\n",
      "  0. 0. 0. 0. 0. 0. 0. 0. 0. 0. 0. 0. 0. 0. 0. 0. 0. 0. 0. 0. 0. 0. 0. 0.\n",
      "  0. 0. 0. 0. 0. 0. 0. 0. 0. 0. 0. 0. 0. 0. 0. 0. 0. 0. 0. 0. 0. 0. 0. 0.\n",
      "  0. 0. 0. 0. 0. 0. 0. 0. 0. 0. 0. 0. 0. 0. 0. 0. 0. 0. 0. 0. 0. 0. 0. 0.\n",
      "  0. 0. 0. 0. 0. 0. 0. 0. 0. 0. 0. 0. 0. 0. 0. 0. 0. 0. 0. 0. 0. 0. 0. 0.\n",
      "  0. 0. 0. 0. 0. 0. 0. 0. 0. 0. 0. 0. 0. 0. 0. 0. 0. 0. 0. 0. 0. 0. 0. 0.\n",
      "  0. 0. 0. 0. 0. 0. 0. 0. 0. 0. 0. 0. 0. 0. 0. 0. 0. 0. 0. 0. 0. 0. 0. 0.\n",
      "  0. 0. 0. 0. 0. 0. 0. 0. 0. 0. 0. 0. 0. 0. 0. 0. 0. 0. 0. 0. 0. 0. 0. 0.\n",
      "  0. 0. 0. 0. 0. 0. 0. 0. 0. 0. 0. 0. 0. 0. 0. 0. 0. 0. 0. 0. 0. 0. 0. 0.\n",
      "  0. 0. 0. 0. 0. 0. 0. 0. 0. 0. 0. 0. 0. 0. 0. 0. 0. 0. 0. 0. 0. 0. 0. 0.\n",
      "  0. 0. 0. 0. 0. 0. 0. 0. 0. 0. 0. 0. 0. 0. 0. 0. 0. 0. 0. 0. 0. 0. 0. 0.\n",
      "  0. 0. 0. 0. 0. 0. 0. 0. 0.]]\n",
      "Vomiting in adults\n"
     ]
    },
    {
     "name": "stderr",
     "output_type": "stream",
     "text": [
      "127.0.0.1 - - [08/Apr/2024 21:51:19] \"POST /process HTTP/1.1\" 200 -\n",
      "127.0.0.1 - - [08/Apr/2024 21:55:52] \"POST /process HTTP/1.1\" 200 -\n",
      "127.0.0.1 - - [08/Apr/2024 22:01:51] \"POST /process HTTP/1.1\" 200 -\n"
     ]
    }
   ],
   "source": [
    "from joblib import load\n",
    "import numpy as np\n",
    "from flask import Flask, request, jsonify, send_from_directory\n",
    "import base64\n",
    "from PIL import Image\n",
    "from io import BytesIO\n",
    "# Load the model from the file\n",
    "\n",
    "app = Flask(__name__);\n",
    "@app.route('/')\n",
    "def home():\n",
    "    return jsonify({\"hello\" : \"word\"})\n",
    "\n",
    "@app.route('/getPrediction', methods=['POST'])\n",
    "def getPred():\n",
    "    df = pd.read_csv('cleaned_data.csv');\n",
    "    array = np.zeros((1,657))\n",
    "    inputValues = request.json['symptoms'];\n",
    "    finalValues = inputValues.lower();\n",
    "    print(finalValues);\n",
    "    stringArray = finalValues.split(',');\n",
    "    for i in range(df.columns.size):\n",
    "    #     if df.columns[i].lower() == \"persistent sore throat\":\n",
    "    #         array[0][i-1] = 1;\n",
    "    #     elif df.columns[i].lower() == \"diarrhea\":\n",
    "    #         array[0][i-1] = 1;\n",
    "    #     elif df.columns[i].lower() == \"sore throat\":\n",
    "    #         array[0][i-1] = 1;\n",
    "        if df.columns[i].lower() in stringArray:\n",
    "            array[0][i-1] = 1;\n",
    "            print(i)\n",
    "    print(array)\n",
    "    loaded_model = load('decision_tree_model.pkl')\n",
    "    # Make predictions\n",
    "    predictions = loaded_model.predict(array);\n",
    "    print(predictions[0]);\n",
    "    return jsonify({\"prediction\" : predictions[0]});\n",
    "\n",
    "\n",
    "UPLOAD_FOLDER = 'processed_images'\n",
    "if not os.path.exists(UPLOAD_FOLDER):\n",
    "    os.makedirs(UPLOAD_FOLDER)\n",
    "\n",
    "@app.route('/process', methods=['POST'])\n",
    "def process_image():\n",
    "#     image_base64 = request.json.get('image')\n",
    "\n",
    "#     if not image_base64:\n",
    "#         return jsonify({'error': 'No image data provided'}), 400\n",
    "\n",
    "#     try:\n",
    "#         # Decode the base64 encoded image\n",
    "#         image_data = base64.b64decode(image_base64)\n",
    "#         image = Image.open(BytesIO(image_data))\n",
    "        \n",
    "#         # Generate a unique filename\n",
    "#         filename = f\"{os.urandom(24).hex()}.png\"\n",
    "\n",
    "#         # Save the decoded image to the processed_images folder\n",
    "#         with open(os.path.join(UPLOAD_FOLDER, filename), 'wb') as f:\n",
    "#             f.write(image_data)\n",
    "\n",
    "# #         # Convert image to bytes\n",
    "# #         img_byte_arr = BytesIO()\n",
    "# #         image.save(img_byte_arr, format='PNG')\n",
    "# #         img_byte_arr = img_byte_arr.getvalue()\n",
    "\n",
    "#         # Send the image back as a response\n",
    "#         return jsonify({\"message\" : \"Hello\"})\n",
    "#     except Exception as e:\n",
    "#         return jsonify({'error': f'Error processing image: {str(e)}'}), 500\n",
    "    image_base64 = request.json.get('image')\n",
    "\n",
    "    if not image_base64:\n",
    "        return jsonify({'error': 'No image data provided'}), 400\n",
    "\n",
    "    try:\n",
    "        # Decode the base64 encoded image\n",
    "        image_data = base64.b64decode(image_base64)\n",
    "        \n",
    "        # Open the image using PIL\n",
    "        image = Image.open(BytesIO(image_data))\n",
    "        \n",
    "        # Generate a unique filename\n",
    "        filename = f\"{os.urandom(24).hex()}.png\"\n",
    "\n",
    "        # Save the processed image to the processed_images folder\n",
    "        image.save(os.path.join(UPLOAD_FOLDER, filename))\n",
    "\n",
    "        return jsonify({\"message\": \"Image saved successfully\", \"filename\": filename})\n",
    "    except Exception as e:\n",
    "        return jsonify({'error': f'Error processing image: {str(e)}'}), 500\n",
    "\n",
    "if __name__ == '__main__':\n",
    "    app.run(port=8000)"
   ]
  },
  {
   "cell_type": "code",
   "execution_count": null,
   "id": "366caa57",
   "metadata": {},
   "outputs": [],
   "source": [
    "\n",
    "\n",
    "\n",
    "df = pd.read_csv('cleaned_data.csv');\n",
    "array = np.zeros((1,657))\n",
    "inputValues = \"abdominal pain,pulsating sensation abdomen,back pain\";\n",
    "finalValues = inputValues.lower();\n",
    "stringArray = finalValues.split(',');\n",
    "for i in range(df.columns.size):\n",
    "#     if df.columns[i].lower() == \"persistent sore throat\":\n",
    "#         array[0][i-1] = 1;\n",
    "#     elif df.columns[i].lower() == \"diarrhea\":\n",
    "#         array[0][i-1] = 1;\n",
    "#     elif df.columns[i].lower() == \"sore throat\":\n",
    "#         array[0][i-1] = 1;\n",
    "    if df.columns[i].lower() in stringArray:\n",
    "        array[0][i-1] = 1;\n",
    "        print(i)\n",
    "print(array)\n",
    "loaded_model = load('decision_tree_model.pkl')\n",
    "# Make predictions\n",
    "predictions = loaded_model.predict(array);\n",
    "\n",
    "# Print the predictions\n",
    "print(predictions[0])"
   ]
  },
  {
   "cell_type": "code",
   "execution_count": null,
   "id": "cadf0c13",
   "metadata": {},
   "outputs": [],
   "source": [
    "inputValues = \"persistent sore throat,diarrhea,sore throat\";\n",
    "finalValues = inputValues.lower();\n",
    "array = finalValues.split(',');\n"
   ]
  },
  {
   "cell_type": "code",
   "execution_count": null,
   "id": "2e519920",
   "metadata": {},
   "outputs": [],
   "source": []
  }
 ],
 "metadata": {
  "kernelspec": {
   "display_name": "Python 3 (ipykernel)",
   "language": "python",
   "name": "python3"
  },
  "language_info": {
   "codemirror_mode": {
    "name": "ipython",
    "version": 3
   },
   "file_extension": ".py",
   "mimetype": "text/x-python",
   "name": "python",
   "nbconvert_exporter": "python",
   "pygments_lexer": "ipython3",
   "version": "3.9.13"
  }
 },
 "nbformat": 4,
 "nbformat_minor": 5
}
